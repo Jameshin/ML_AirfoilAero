{
 "cells": [
  {
   "cell_type": "code",
   "execution_count": 1,
   "metadata": {},
   "outputs": [],
   "source": [
    "##*#-*- encoding: utf-8 -*-\n",
    "import numpy as np\n",
    "import pandas as pd\n",
    "import seaborn as sns\n",
    "import sklearn.metrics as metrics\n",
    "import matplotlib.pyplot as plt\n",
    "%matplotlib inline\n"
   ]
  },
  {
   "cell_type": "code",
   "execution_count": 2,
   "metadata": {},
   "outputs": [
    {
     "data": {
      "text/html": [
       "<div>\n",
       "<style scoped>\n",
       "    .dataframe tbody tr th:only-of-type {\n",
       "        vertical-align: middle;\n",
       "    }\n",
       "\n",
       "    .dataframe tbody tr th {\n",
       "        vertical-align: top;\n",
       "    }\n",
       "\n",
       "    .dataframe thead th {\n",
       "        text-align: right;\n",
       "    }\n",
       "</style>\n",
       "<table border=\"1\" class=\"dataframe\">\n",
       "  <thead>\n",
       "    <tr style=\"text-align: right;\">\n",
       "      <th></th>\n",
       "      <th>thickness</th>\n",
       "      <th>RE</th>\n",
       "      <th>Umach</th>\n",
       "      <th>AOA</th>\n",
       "      <th>Cl</th>\n",
       "      <th>Cdt</th>\n",
       "      <th>Cdp</th>\n",
       "      <th>Cdf</th>\n",
       "      <th>Cm</th>\n",
       "    </tr>\n",
       "  </thead>\n",
       "  <tbody>\n",
       "    <tr>\n",
       "      <th>0</th>\n",
       "      <td>9</td>\n",
       "      <td>100000.0</td>\n",
       "      <td>0.05</td>\n",
       "      <td>0.0</td>\n",
       "      <td>-7.530000e-09</td>\n",
       "      <td>0.0144</td>\n",
       "      <td>0.00274</td>\n",
       "      <td>0.0116</td>\n",
       "      <td>4.000000e-10</td>\n",
       "    </tr>\n",
       "    <tr>\n",
       "      <th>1</th>\n",
       "      <td>9</td>\n",
       "      <td>100000.0</td>\n",
       "      <td>0.05</td>\n",
       "      <td>1.0</td>\n",
       "      <td>1.050644e-01</td>\n",
       "      <td>0.0145</td>\n",
       "      <td>0.00289</td>\n",
       "      <td>0.0116</td>\n",
       "      <td>-8.200000e-04</td>\n",
       "    </tr>\n",
       "    <tr>\n",
       "      <th>2</th>\n",
       "      <td>9</td>\n",
       "      <td>100000.0</td>\n",
       "      <td>0.05</td>\n",
       "      <td>2.0</td>\n",
       "      <td>2.097556e-01</td>\n",
       "      <td>0.0147</td>\n",
       "      <td>0.00337</td>\n",
       "      <td>0.0114</td>\n",
       "      <td>-1.660000e-03</td>\n",
       "    </tr>\n",
       "    <tr>\n",
       "      <th>3</th>\n",
       "      <td>9</td>\n",
       "      <td>100000.0</td>\n",
       "      <td>0.05</td>\n",
       "      <td>3.0</td>\n",
       "      <td>3.136829e-01</td>\n",
       "      <td>0.0153</td>\n",
       "      <td>0.00418</td>\n",
       "      <td>0.0111</td>\n",
       "      <td>-2.560000e-03</td>\n",
       "    </tr>\n",
       "    <tr>\n",
       "      <th>4</th>\n",
       "      <td>9</td>\n",
       "      <td>100000.0</td>\n",
       "      <td>0.05</td>\n",
       "      <td>4.0</td>\n",
       "      <td>4.163109e-01</td>\n",
       "      <td>0.0160</td>\n",
       "      <td>0.00539</td>\n",
       "      <td>0.0106</td>\n",
       "      <td>-3.570000e-03</td>\n",
       "    </tr>\n",
       "  </tbody>\n",
       "</table>\n",
       "</div>"
      ],
      "text/plain": [
       "   thickness        RE  Umach  AOA            Cl     Cdt      Cdp     Cdf  \\\n",
       "0          9  100000.0   0.05  0.0 -7.530000e-09  0.0144  0.00274  0.0116   \n",
       "1          9  100000.0   0.05  1.0  1.050644e-01  0.0145  0.00289  0.0116   \n",
       "2          9  100000.0   0.05  2.0  2.097556e-01  0.0147  0.00337  0.0114   \n",
       "3          9  100000.0   0.05  3.0  3.136829e-01  0.0153  0.00418  0.0111   \n",
       "4          9  100000.0   0.05  4.0  4.163109e-01  0.0160  0.00539  0.0106   \n",
       "\n",
       "             Cm  \n",
       "0  4.000000e-10  \n",
       "1 -8.200000e-04  \n",
       "2 -1.660000e-03  \n",
       "3 -2.560000e-03  \n",
       "4 -3.570000e-03  "
      ]
     },
     "execution_count": 2,
     "metadata": {},
     "output_type": "execute_result"
    }
   ],
   "source": [
    "# Data Loading\n",
    "try:\n",
    "    all_data = pd.read_csv(\"./input.csv\")\n",
    "except:\n",
    "    all_data = pd.read_csv(\"./input.csv\", encoding = \"ISO-8859-1\")\n",
    "\n",
    "## Discover the head of your data\n",
    "all_data.head()\n"
   ]
  },
  {
   "cell_type": "code",
   "execution_count": 3,
   "metadata": {},
   "outputs": [],
   "source": [
    "## Pre-processing - 1. Inpute Missing values\n",
    "## There are many options in order to deal with a missing value such as:\n",
    "## - A constant value that has meaning within the domain, such as 0, distinct from all other values.\n",
    "## - A value from another randomly selected record.\n",
    "## - A mean, median or mode value for the column.\n",
    "## - A value estimated by another predictive model.\n",
    "## We are going to replace a missing value to 0 for numeric columns and 'empty' for string columns, respectively.\n",
    "\n",
    "## Filling for missing values\n",
    "categorical_columns_list = []\n",
    "for each in all_data.columns:\n",
    "    if all_data[each].dtypes != 'int64':\n",
    "        if all_data[each].dtypes != 'float64':\n",
    "            categorical_columns_list.append(each)\n",
    "for item in categorical_columns_list:\n",
    "    all_data[item].fillna(\"empty\",inplace=True)\n",
    "all_data.fillna(0, inplace=True)\n"
   ]
  },
  {
   "cell_type": "code",
   "execution_count": 4,
   "metadata": {},
   "outputs": [
    {
     "data": {
      "text/html": [
       "<div>\n",
       "<style scoped>\n",
       "    .dataframe tbody tr th:only-of-type {\n",
       "        vertical-align: middle;\n",
       "    }\n",
       "\n",
       "    .dataframe tbody tr th {\n",
       "        vertical-align: top;\n",
       "    }\n",
       "\n",
       "    .dataframe thead th {\n",
       "        text-align: right;\n",
       "    }\n",
       "</style>\n",
       "<table border=\"1\" class=\"dataframe\">\n",
       "  <thead>\n",
       "    <tr style=\"text-align: right;\">\n",
       "      <th></th>\n",
       "      <th>thickness</th>\n",
       "      <th>RE</th>\n",
       "      <th>Umach</th>\n",
       "      <th>AOA</th>\n",
       "      <th>Cl</th>\n",
       "      <th>Cdt</th>\n",
       "      <th>Cdp</th>\n",
       "      <th>Cdf</th>\n",
       "      <th>Cm</th>\n",
       "    </tr>\n",
       "  </thead>\n",
       "  <tbody>\n",
       "    <tr>\n",
       "      <th>0</th>\n",
       "      <td>9</td>\n",
       "      <td>100000.0</td>\n",
       "      <td>0.05</td>\n",
       "      <td>0.0</td>\n",
       "      <td>-7.530000e-09</td>\n",
       "      <td>0.0144</td>\n",
       "      <td>0.00274</td>\n",
       "      <td>0.0116</td>\n",
       "      <td>4.000000e-10</td>\n",
       "    </tr>\n",
       "    <tr>\n",
       "      <th>1</th>\n",
       "      <td>9</td>\n",
       "      <td>100000.0</td>\n",
       "      <td>0.05</td>\n",
       "      <td>1.0</td>\n",
       "      <td>1.050644e-01</td>\n",
       "      <td>0.0145</td>\n",
       "      <td>0.00289</td>\n",
       "      <td>0.0116</td>\n",
       "      <td>-8.200000e-04</td>\n",
       "    </tr>\n",
       "    <tr>\n",
       "      <th>2</th>\n",
       "      <td>9</td>\n",
       "      <td>100000.0</td>\n",
       "      <td>0.05</td>\n",
       "      <td>2.0</td>\n",
       "      <td>2.097556e-01</td>\n",
       "      <td>0.0147</td>\n",
       "      <td>0.00337</td>\n",
       "      <td>0.0114</td>\n",
       "      <td>-1.660000e-03</td>\n",
       "    </tr>\n",
       "    <tr>\n",
       "      <th>3</th>\n",
       "      <td>9</td>\n",
       "      <td>100000.0</td>\n",
       "      <td>0.05</td>\n",
       "      <td>3.0</td>\n",
       "      <td>3.136829e-01</td>\n",
       "      <td>0.0153</td>\n",
       "      <td>0.00418</td>\n",
       "      <td>0.0111</td>\n",
       "      <td>-2.560000e-03</td>\n",
       "    </tr>\n",
       "    <tr>\n",
       "      <th>4</th>\n",
       "      <td>9</td>\n",
       "      <td>100000.0</td>\n",
       "      <td>0.05</td>\n",
       "      <td>4.0</td>\n",
       "      <td>4.163109e-01</td>\n",
       "      <td>0.0160</td>\n",
       "      <td>0.00539</td>\n",
       "      <td>0.0106</td>\n",
       "      <td>-3.570000e-03</td>\n",
       "    </tr>\n",
       "  </tbody>\n",
       "</table>\n",
       "</div>"
      ],
      "text/plain": [
       "   thickness        RE  Umach  AOA            Cl     Cdt      Cdp     Cdf  \\\n",
       "0          9  100000.0   0.05  0.0 -7.530000e-09  0.0144  0.00274  0.0116   \n",
       "1          9  100000.0   0.05  1.0  1.050644e-01  0.0145  0.00289  0.0116   \n",
       "2          9  100000.0   0.05  2.0  2.097556e-01  0.0147  0.00337  0.0114   \n",
       "3          9  100000.0   0.05  3.0  3.136829e-01  0.0153  0.00418  0.0111   \n",
       "4          9  100000.0   0.05  4.0  4.163109e-01  0.0160  0.00539  0.0106   \n",
       "\n",
       "             Cm  \n",
       "0  4.000000e-10  \n",
       "1 -8.200000e-04  \n",
       "2 -1.660000e-03  \n",
       "3 -2.560000e-03  \n",
       "4 -3.570000e-03  "
      ]
     },
     "execution_count": 4,
     "metadata": {},
     "output_type": "execute_result"
    }
   ],
   "source": [
    "##* Pre-processing - 2. Vectorization\n",
    "## Numeric data only. There is nothing to be vectorized.\n",
    "converted_key_list = []\n",
    "\n",
    "## Converted data frame\n",
    "all_data.head()\n"
   ]
  },
  {
   "cell_type": "code",
   "execution_count": 5,
   "metadata": {},
   "outputs": [],
   "source": [
    "##* Listing features and scaling datasets\n",
    "from sklearn.preprocessing import StandardScaler\n",
    "column_list = ['Cl', 'AOA', 'Umach', 'RE', 'thickness']\n",
    "features = ['AOA', 'Umach', 'RE', 'thickness']\n",
    "target = 'Cdt'\n"
   ]
  },
  {
   "cell_type": "code",
   "execution_count": 6,
   "metadata": {},
   "outputs": [
    {
     "data": {
      "text/html": [
       "<div>\n",
       "<style scoped>\n",
       "    .dataframe tbody tr th:only-of-type {\n",
       "        vertical-align: middle;\n",
       "    }\n",
       "\n",
       "    .dataframe tbody tr th {\n",
       "        vertical-align: top;\n",
       "    }\n",
       "\n",
       "    .dataframe thead th {\n",
       "        text-align: right;\n",
       "    }\n",
       "</style>\n",
       "<table border=\"1\" class=\"dataframe\">\n",
       "  <thead>\n",
       "    <tr style=\"text-align: right;\">\n",
       "      <th></th>\n",
       "      <th>thickness</th>\n",
       "      <th>RE</th>\n",
       "      <th>Umach</th>\n",
       "      <th>AOA</th>\n",
       "      <th>Cl</th>\n",
       "      <th>Cdt</th>\n",
       "      <th>Cdp</th>\n",
       "      <th>Cdf</th>\n",
       "      <th>Cm</th>\n",
       "    </tr>\n",
       "  </thead>\n",
       "  <tbody>\n",
       "    <tr>\n",
       "      <th>0</th>\n",
       "      <td>-1.341536</td>\n",
       "      <td>-1.566693</td>\n",
       "      <td>-1.593497</td>\n",
       "      <td>-1.944745</td>\n",
       "      <td>-7.530000e-09</td>\n",
       "      <td>0.0144</td>\n",
       "      <td>0.00274</td>\n",
       "      <td>0.0116</td>\n",
       "      <td>4.000000e-10</td>\n",
       "    </tr>\n",
       "    <tr>\n",
       "      <th>1</th>\n",
       "      <td>-1.341536</td>\n",
       "      <td>-1.566693</td>\n",
       "      <td>-1.593497</td>\n",
       "      <td>-1.608401</td>\n",
       "      <td>1.050644e-01</td>\n",
       "      <td>0.0145</td>\n",
       "      <td>0.00289</td>\n",
       "      <td>0.0116</td>\n",
       "      <td>-8.200000e-04</td>\n",
       "    </tr>\n",
       "    <tr>\n",
       "      <th>2</th>\n",
       "      <td>-1.341536</td>\n",
       "      <td>-1.566693</td>\n",
       "      <td>-1.593497</td>\n",
       "      <td>-1.272056</td>\n",
       "      <td>2.097556e-01</td>\n",
       "      <td>0.0147</td>\n",
       "      <td>0.00337</td>\n",
       "      <td>0.0114</td>\n",
       "      <td>-1.660000e-03</td>\n",
       "    </tr>\n",
       "    <tr>\n",
       "      <th>3</th>\n",
       "      <td>-1.341536</td>\n",
       "      <td>-1.566693</td>\n",
       "      <td>-1.593497</td>\n",
       "      <td>-0.935711</td>\n",
       "      <td>3.136829e-01</td>\n",
       "      <td>0.0153</td>\n",
       "      <td>0.00418</td>\n",
       "      <td>0.0111</td>\n",
       "      <td>-2.560000e-03</td>\n",
       "    </tr>\n",
       "    <tr>\n",
       "      <th>4</th>\n",
       "      <td>-1.341536</td>\n",
       "      <td>-1.566693</td>\n",
       "      <td>-1.593497</td>\n",
       "      <td>-0.599367</td>\n",
       "      <td>4.163109e-01</td>\n",
       "      <td>0.0160</td>\n",
       "      <td>0.00539</td>\n",
       "      <td>0.0106</td>\n",
       "      <td>-3.570000e-03</td>\n",
       "    </tr>\n",
       "  </tbody>\n",
       "</table>\n",
       "</div>"
      ],
      "text/plain": [
       "   thickness        RE     Umach       AOA            Cl     Cdt      Cdp  \\\n",
       "0  -1.341536 -1.566693 -1.593497 -1.944745 -7.530000e-09  0.0144  0.00274   \n",
       "1  -1.341536 -1.566693 -1.593497 -1.608401  1.050644e-01  0.0145  0.00289   \n",
       "2  -1.341536 -1.566693 -1.593497 -1.272056  2.097556e-01  0.0147  0.00337   \n",
       "3  -1.341536 -1.566693 -1.593497 -0.935711  3.136829e-01  0.0153  0.00418   \n",
       "4  -1.341536 -1.566693 -1.593497 -0.599367  4.163109e-01  0.0160  0.00539   \n",
       "\n",
       "      Cdf            Cm  \n",
       "0  0.0116  4.000000e-10  \n",
       "1  0.0116 -8.200000e-04  \n",
       "2  0.0114 -1.660000e-03  \n",
       "3  0.0111 -2.560000e-03  \n",
       "4  0.0106 -3.570000e-03  "
      ]
     },
     "execution_count": 6,
     "metadata": {},
     "output_type": "execute_result"
    }
   ],
   "source": [
    "##* Auto correction\n",
    "column_list_old = column_list.copy()\n",
    "features_old = features.copy()\n",
    "mod_column_list = []\n",
    "mod_features = []\n",
    "if converted_key_list is not None:\n",
    "    for keys, values in converted_key_list:\n",
    "        for item in column_list:\n",
    "            if item == keys:\n",
    "                column_list.remove(keys)\n",
    "                for iter_item in values:\n",
    "                    mod_column_list.append(iter_item) # replace\n",
    "        for item in features:\n",
    "            if item == keys:\n",
    "                features.remove(keys)\n",
    "                for iter_item in values:\n",
    "                    mod_features.append(iter_item) # replace\n",
    "\n",
    "# replace previous list\n",
    "if len(mod_column_list) != 0:\n",
    "    column_list = column_list + mod_column_list\n",
    "if len(mod_features) != 0:\n",
    "    features = features + mod_features\n",
    "\n",
    "scaler = StandardScaler()\n",
    "scaled_x = scaler.fit_transform(all_data[features])\n",
    "scaled_all_data = all_data.copy()\n",
    "scaled_all_data[features] = scaled_x\n",
    "scaled_all_data.head()\n"
   ]
  },
  {
   "cell_type": "code",
   "execution_count": 7,
   "metadata": {},
   "outputs": [],
   "source": [
    "##* Train and Test Dataset Split\n",
    "from sklearn.model_selection import train_test_split\n",
    "train_data, test_data = train_test_split(scaled_all_data, test_size = 0.2, shuffle = True)\n"
   ]
  },
  {
   "cell_type": "code",
   "execution_count": 8,
   "metadata": {},
   "outputs": [
    {
     "name": "stdout",
     "output_type": "stream",
     "text": [
      "0.9749198444307539\n"
     ]
    },
    {
     "data": {
      "text/plain": [
       "RandomForestRegressor()"
      ]
     },
     "execution_count": 8,
     "metadata": {},
     "output_type": "execute_result"
    }
   ],
   "source": [
    "##* Random Forests Regression\n",
    "from sklearn.ensemble import RandomForestRegressor\n",
    "clf = RandomForestRegressor(criterion = \"mse\", min_samples_split = 2, min_samples_leaf = 1, n_estimators = 100, max_depth = None)\n",
    "\t# Quality of a split, The min. num required to split an internal node, The max. num required to be at a leaf node, Number of trees, K-fold cross-validation, The max. depth of the tree\n",
    "## Cross validation score\n",
    "from sklearn.model_selection import cross_val_score\n",
    "scores = cross_val_score(clf, train_data[features], train_data[target], cv = 10)\n",
    "print(scores.mean())\n",
    "clf.fit(train_data[features], train_data[target])\n",
    "\n",
    "#- [OPTION_NAME = (default value)]\n",
    "#- n_estimators = 100 // int, optional. The number of trees in the forest.\n",
    "#- criterion // string, optional. The function to measure the quality of a split.\n",
    "#- criterion = 'mse' // string, optional. For regression only. 'mse' and 'mae' are supported.\n",
    "#- criterion = 'gini' // string, optional. For classification only. 'gini' and 'entropy' are supported.\n",
    "#- max_depth = None // int or None, optional. The maximum depth of the tree. If none, then nodes are expanded until all leaves are pure or until all leaves contain less than min_samples_split samples.\n",
    "#- min_samples_split = 2 // int, optional. The minimum number of samples required to split an internal node: If int, then consider min_samples_split as the minimum number. If float, then min_samples_split is a fraction and ceil(min_samples_split * n_samples) are the minimum number of samples for each split.\n",
    "#- min_samples_leaf = 1 // int, optional. The minimum number of samples required to be at a leaf node. A split point at any depth will only be considered if it leaves at least min_samples_leaf training samples in each of the left and right branches. This may have the effect of smoothing the model, especially in regression. If int, then consider min_samples_leaf as the minimum number. If float, then min_samples_leaf is a fraction and ceil(min_samples_leaf * n_samples) are the minimum number of samples for each node.\n",
    "#- You can find parameters details at\n",
    "#- https://scikit-learn.org/stable/modules/generated/sklearn.ensemble.RandomForestRegressor.html\n",
    "#- https://scikit-learn.org/stable/modules/generated/sklearn.ensemble.RandomForestClassifier.html\n"
   ]
  },
  {
   "cell_type": "code",
   "execution_count": 9,
   "metadata": {},
   "outputs": [
    {
     "name": "stdout",
     "output_type": "stream",
     "text": [
      "RandomForestRegressor()\n"
     ]
    }
   ],
   "source": [
    "##* results\n",
    "print(clf)\n"
   ]
  },
  {
   "cell_type": "code",
   "execution_count": 10,
   "metadata": {},
   "outputs": [
    {
     "name": "stdout",
     "output_type": "stream",
     "text": [
      "Prediction accuracy:  0.9825334349721355\n",
      "   Predicted  Actual\n",
      "0   0.011006  0.0110\n",
      "1   0.016301  0.0163\n",
      "2   0.011499  0.0114\n",
      "3   0.017466  0.0172\n",
      "4   0.068842  0.0686\n"
     ]
    }
   ],
   "source": [
    "##* Predict using the model we made.\n",
    "predicted = clf.predict(test_data[features])\n",
    "confidence = clf.score(test_data[features], test_data[target])\t# Returns the coefficient of determination R^2 of the prediction.\n",
    "print(\"Prediction accuracy: \", confidence)\n",
    "\n",
    "## Comparing output data of the testing datasets(never learned) with the predicted output data using input data of the testing datasets.\n",
    "vs = pd.DataFrame(np.c_[predicted, test_data[target]], columns=['Predicted', 'Actual'])\n",
    "print(vs.head())\n"
   ]
  },
  {
   "cell_type": "code",
   "execution_count": 11,
   "metadata": {},
   "outputs": [
    {
     "data": {
      "image/png": "[encoded data removed]",
      "text/plain": [
       "<Figure size 864x864 with 1 Axes>"
      ]
     },
     "metadata": {
      "needs_background": "light"
     },
     "output_type": "display_data"
    }
   ],
   "source": [
    "##* Plotting testing datasets vs. predicted datasets\n",
    "vsplot, ax = plt.subplots(1, 1, figsize=(12,12))\n",
    "ax.scatter(x = predicted, y = test_data[target], color='c', edgecolors=(0, 0, 0))\n",
    "ax.plot([test_data[target].min(), test_data[target].max()], [test_data[target].min(), test_data[target].max()], 'k--', lw=4)\n",
    "ax.set_xlabel('Predicted')\n",
    "ax.set_ylabel('Actual')\n",
    "plt.show()\n"
   ]
  },
  {
   "cell_type": "code",
   "execution_count": 12,
   "metadata": {},
   "outputs": [
    {
     "name": "stdout",
     "output_type": "stream",
     "text": [
      "        AOA     Umach        RE  thickness\n",
      "0  0.414916  0.437809  0.061667   0.085608\n"
     ]
    }
   ],
   "source": [
    "##* Importance of each predictor\n",
    "vi = pd.DataFrame([clf.feature_importances_], columns=features)\n",
    "print(vi)\n"
   ]
  },
  {
   "cell_type": "code",
   "execution_count": 13,
   "metadata": {},
   "outputs": [
    {
     "name": "stdout",
     "output_type": "stream",
     "text": [
      "*** Root Mean Squared Error =  0.0023922907243566346\n"
     ]
    }
   ],
   "source": [
    "##* Performance Evaluation\n",
    "\n",
    "## Root Mean Squared Error\n",
    "perf_rmse = np.sqrt(metrics.mean_squared_error(vs['Actual'], vs['Predicted']))\n",
    "print('*** Root Mean Squared Error = ', perf_rmse)\n"
   ]
  },
  {
   "cell_type": "code",
   "execution_count": null,
   "metadata": {
    "collapsed": true
   },
   "outputs": [],
   "source": []
  }
 ],
 "metadata": {
  "anaconda-cloud": {},
  "kernelspec": {
   "display_name": "Python 3",
   "language": "python",
   "name": "python3"
  },
  "language_info": {
   "codemirror_mode": {
    "name": "ipython",
    "version": 3
   },
   "file_extension": ".py",
   "mimetype": "text/x-python",
   "name": "python",
   "nbconvert_exporter": "python",
   "pygments_lexer": "ipython3",
   "version": "3.8.5"
  },
  "ml_info": {
   "create_date": "2019/07/05 16:25:04",
   "gui_parameters": "{\"task\":\"Regression\",\"testing_frame_extract_method\":\"random\",\"hparams\":{\"criterion\":\"mse\",\"min_samples_split\":2,\"min_samples_leaf\":1,\"n_estimators\":100,\"cv\":10,\"max_depth\":\"None\"},\"kernel\":\"Python\",\"analysis\":[\"Variable Importance\"],\"perf_eval\":[\"rmse\"],\"number_of_rows\":7680,\"algorithm\":\"RF\",\"input_columns_index_and_name\":{\"3\":\"AOA\",\"2\":\"Umach\",\"1\":\"RE\",\"0\":\"thickness\"},\"output_columns_index_and_name\":{\"4\":\"Cl\"},\"ml_file_path\":\"./\",\"datatype_of_columns\":{\"3\":\"Numeric\",\"2\":\"Numeric\",\"1\":\"Numeric\",\"0\":\"Numeric\",\"4\":\"Numeric\"},\"whole_columns_index_and_name\":{\"3\":\"AOA\",\"2\":\"Umach\",\"1\":\"RE\",\"0\":\"thickness\",\"4\":\"Cl\"},\"testing_frame_rate\":0.2,\"ml_file_name\":\"input.csv\"}",
   "ml_data_id": "17424815"
  }
 },
 "nbformat": 4,
 "nbformat_minor": 2
}
